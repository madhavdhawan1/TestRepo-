{
 "cells": [
  {
   "cell_type": "code",
   "execution_count": 8,
   "id": "7e58cd82",
   "metadata": {},
   "outputs": [
    {
     "name": "stdout",
     "output_type": "stream",
     "text": [
      "5\n",
      "    *\n",
      "   ***\n",
      "  *****\n",
      " *******\n",
      "*********\n",
      " *******\n",
      "  *****\n",
      "   ***\n",
      "    *\n"
     ]
    }
   ],
   "source": [
    "n = int(input())\n",
    "k = 0\n",
    "for i in range(1, n + 1):\n",
    "    for j in range(1, n - i + 1):\n",
    "        print(end = ' ')\n",
    "    while k != 2 * i - 1:\n",
    "        print('*', end = '')\n",
    "        k = k + 1\n",
    "    k=0\n",
    "    \n",
    "    print()\n",
    "\n",
    "k = 2\n",
    "l = 1\n",
    "for i in range(1, n):\n",
    "    for j in range(1, k):\n",
    "        print(end = ' ')\n",
    "    k = k + 1\n",
    "    while l <= (2 * (n - i) - 1):\n",
    "        print('*', end = '')\n",
    "        l = l + 1\n",
    "    l = 1\n",
    "    print()"
   ]
  },
  {
   "cell_type": "code",
   "execution_count": null,
   "id": "bdd09525",
   "metadata": {},
   "outputs": [],
   "source": [
    "import turtle\n",
    "wn = turtle.Screen()\n",
    "wn.setup(width=400, height=400)\n",
    "red = turtle.Turtle()\n",
    "\n",
    "def curve():\n",
    "    for i in range(200):\n",
    "        red.right(1)\n",
    "        red.forward(1)\n",
    "\n",
    "def heart():\n",
    "    red.fillcolor('red')\n",
    "    red.begin_fill()\n",
    "    red.left(140)\n",
    "    red.forward(113)\n",
    "    curve()\n",
    "    red.left(120)\n",
    "    curve()\n",
    "    red.forward(112)\n",
    "    red.end_fill()\n",
    "\n",
    "heart()\n",
    "red.ht()\n",
    "turtle.done()"
   ]
  },
  {
   "cell_type": "code",
   "execution_count": null,
   "id": "e6c66809",
   "metadata": {},
   "outputs": [],
   "source": [
    "n=int(input())\n",
    "k=0\n",
    "for i in range(1,n+1):\n",
    "    for j in range(1,n-i+1):\n",
    "        print(end='')\n",
    "    while k !=2*i-1:\n",
    "        print('*',end='')\n",
    "        k=k+1\n",
    "        k=0\n",
    "    print()\n",
    "    \n",
    "k=2\n",
    "l=1\n",
    "for i in range(1,n):\n",
    "    for j in range(1,k):\n",
    "        print(end=' ')\n",
    "    k=k+1\n",
    "    while l<=(2*(n-i)-1):\n",
    "        print('*',end='')\n",
    "        l=l+1\n",
    "    l=1\n",
    "    print()"
   ]
  },
  {
   "cell_type": "code",
   "execution_count": null,
   "id": "c761ace9",
   "metadata": {},
   "outputs": [],
   "source": [
    "n = int(input())\n",
    "k = 0\n",
    "for i in range(1, n + 1):\n",
    "    for j in range(1, n - i + 1):\n",
    "        print(end = ' ')\n",
    "    while k != 2 * i - 1:\n",
    "        print('*', end = '')\n",
    "        k = k + 1\n",
    "    k=0\n",
    "    \n",
    "    print()\n",
    "\n",
    "k = 2\n",
    "l = 1\n",
    "for i in range(1, n):\n",
    "    for j in range(1, k):\n",
    "        print(end = ' ')\n",
    "    k = k + 1\n",
    "    while l <= (2 * (n - i) - 1):\n",
    "        print('*', end = '')\n",
    "        l = l + 1\n",
    "    l = 1\n",
    "    print()"
   ]
  }
 ],
 "metadata": {
  "kernelspec": {
   "display_name": "Python 3 (ipykernel)",
   "language": "python",
   "name": "python3"
  },
  "language_info": {
   "codemirror_mode": {
    "name": "ipython",
    "version": 3
   },
   "file_extension": ".py",
   "mimetype": "text/x-python",
   "name": "python",
   "nbconvert_exporter": "python",
   "pygments_lexer": "ipython3",
   "version": "3.9.12"
  }
 },
 "nbformat": 4,
 "nbformat_minor": 5
}
