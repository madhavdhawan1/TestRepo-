{
 "cells": [
  {
   "cell_type": "code",
   "execution_count": 9,
   "id": "2381f032",
   "metadata": {},
   "outputs": [
    {
     "name": "stdout",
     "output_type": "stream",
     "text": [
      "6\n",
      "     *\n",
      "    ***\n",
      "   *****\n",
      "  *******\n",
      " *********\n",
      "***********\n",
      " *********\n",
      "  *******\n",
      "   *****\n",
      "    ***\n",
      "     *\n"
     ]
    }
   ],
   "source": [
    "n=int(input())\n",
    "k=0\n",
    "for i in range(1,n+1):\n",
    "    for j in range(1,n-i+1):\n",
    "        print(end=' ')\n",
    "    while k != 2*i-1:\n",
    "        print('*',end='')\n",
    "        k=k+1\n",
    "    k=0\n",
    "    print()\n",
    "    \n",
    "k=2\n",
    "l=1\n",
    "for i in range(1,n):\n",
    "    for j in range(1,k):\n",
    "        print(end=' ')\n",
    "    k=k+1\n",
    "    while l<=(2*(n-i)-1):\n",
    "        print('*',end='')\n",
    "        l=l+1\n",
    "    l=1\n",
    "    print()"
   ]
  },
  {
   "cell_type": "code",
   "execution_count": 2,
   "id": "d3e81b27",
   "metadata": {},
   "outputs": [
    {
     "name": "stdout",
     "output_type": "stream",
     "text": [
      "5\n",
      "    *\n",
      "   ***\n",
      "  *****\n",
      " *******\n",
      "*********\n",
      " *******\n",
      "  *****\n",
      "   ***\n",
      "    *\n"
     ]
    }
   ],
   "source": [
    "n = int(input())\n",
    "k = 0\n",
    "for i in range(1, n + 1):\n",
    "    for j in range(1, n - i + 1):\n",
    "        print(end = ' ')\n",
    "    while k != 2 * i - 1:\n",
    "        print('*', end = '')\n",
    "        k = k + 1\n",
    "    k=0\n",
    "    \n",
    "    print()\n",
    "\n",
    "k = 2\n",
    "l = 1\n",
    "for i in range(1, n):\n",
    "    for j in range(1, k):\n",
    "        print(end = ' ')\n",
    "    k = k + 1\n",
    "    while l <= (2 * (n - i) - 1):\n",
    "        print('*', end = '')\n",
    "        l = l + 1\n",
    "    l = 1\n",
    "    print()"
   ]
  },
  {
   "cell_type": "code",
   "execution_count": 10,
   "id": "9d47638d",
   "metadata": {},
   "outputs": [],
   "source": [
    "import turtle\n",
    "wn = turtle.Screen()\n",
    "wn.setup(width=400, height=400)\n",
    "red = turtle.Turtle()\n",
    "\n",
    "def curve():\n",
    "    for i in range(200):\n",
    "        red.right(1)\n",
    "        red.forward(1)\n",
    "\n",
    "def heart():\n",
    "    red.fillcolor('red')\n",
    "    red.begin_fill()\n",
    "    red.left(140)\n",
    "    red.forward(113)\n",
    "    curve()\n",
    "    red.left(120)\n",
    "    curve()\n",
    "    red.forward(112)\n",
    "    red.end_fill()\n",
    "\n",
    "heart()\n",
    "red.ht()\n",
    "turtle.done()"
   ]
  },
  {
   "cell_type": "code",
   "execution_count": 1,
   "id": "ec1721c1",
   "metadata": {},
   "outputs": [
    {
     "name": "stdout",
     "output_type": "stream",
     "text": [
      "121\n",
      "true\n"
     ]
    }
   ],
   "source": [
    "n = int(input())\n",
    "\n",
    "r = 0\n",
    "t = n\n",
    "\n",
    "while(t > 0):\n",
    "    R = t % 10\n",
    "    r = (r * 10) + R\n",
    "    t = t//10\n",
    "\n",
    "if(n == r):\n",
    "    print('true')\n",
    "else:\n",
    "    print('false')"
   ]
  },
  {
   "cell_type": "code",
   "execution_count": 3,
   "id": "7bc10100",
   "metadata": {},
   "outputs": [],
   "source": [
    "def pyramid(rows):\n",
    "    for i in range(rows):\n",
    "        print(''*(rows-i-1)+'* '*(i+1))\n",
    "    for j in range(rows-1,0,-1):\n",
    "        print(''*(rows-j)+'* '*(j))"
   ]
  },
  {
   "cell_type": "code",
   "execution_count": 5,
   "id": "9ffafb1a",
   "metadata": {},
   "outputs": [
    {
     "name": "stdout",
     "output_type": "stream",
     "text": [
      "121\n",
      "true\n"
     ]
    }
   ],
   "source": [
    "n = int(input())\n",
    "\n",
    "r = 0\n",
    "t=n\n",
    "\n",
    "while(t > 0):\n",
    "    R = t % 10\n",
    "    r = (r * 10) + R\n",
    "    t = t//10\n",
    "\n",
    "if(n == r):\n",
    "    print('true')\n",
    "else:\n",
    "    print('false')"
   ]
  },
  {
   "cell_type": "code",
   "execution_count": 6,
   "id": "99db2cee",
   "metadata": {},
   "outputs": [
    {
     "name": "stdout",
     "output_type": "stream",
     "text": [
      "0\n",
      "100\n",
      "30\n",
      "0 -17\n",
      "30 -1\n",
      "60 15\n",
      "90 32\n"
     ]
    }
   ],
   "source": [
    "a=int(input())\n",
    "b=int(input())\n",
    "c=int(input())\n",
    "temp=a\n",
    "while temp<=b:\n",
    "    d=5/9*(temp-32)\n",
    "    print(temp,int(d))\n",
    "    temp=temp+c"
   ]
  },
  {
   "cell_type": "code",
   "execution_count": 13,
   "id": "83653d10",
   "metadata": {},
   "outputs": [
    {
     "name": "stdout",
     "output_type": "stream",
     "text": [
      "111\n",
      "true\n"
     ]
    }
   ],
   "source": [
    "n=int(input())\n",
    "reverse=0\n",
    "temp=n\n",
    "while temp>0:\n",
    "    remainder=temp%10\n",
    "    reverse=(reverse*10)+remainder\n",
    "    temp=temp//10\n",
    "if n==reverse:\n",
    "    print('true')\n",
    "else:\n",
    "    print('false')"
   ]
  },
  {
   "cell_type": "code",
   "execution_count": 18,
   "id": "12a5235e",
   "metadata": {},
   "outputs": [
    {
     "name": "stdout",
     "output_type": "stream",
     "text": [
      "6\n",
      "8\n"
     ]
    }
   ],
   "source": [
    "n=int(input())\n",
    "def fibonacci(n):\n",
    "    if n==1:\n",
    "        return(1)\n",
    "    elif n==2:\n",
    "        return(1)\n",
    "    elif n==3:\n",
    "        return(2)\n",
    "    elif n>=4:\n",
    "        return(fibonacci(n-1)+fibonacci(n-2))\n",
    "print(fibonacci(n))"
   ]
  },
  {
   "cell_type": "code",
   "execution_count": null,
   "id": "1293a038",
   "metadata": {},
   "outputs": [],
   "source": []
  },
  {
   "cell_type": "code",
   "execution_count": null,
   "id": "240c1bdd",
   "metadata": {},
   "outputs": [],
   "source": []
  },
  {
   "cell_type": "code",
   "execution_count": null,
   "id": "d64381d4",
   "metadata": {},
   "outputs": [],
   "source": []
  },
  {
   "cell_type": "code",
   "execution_count": null,
   "id": "b23f5234",
   "metadata": {},
   "outputs": [],
   "source": []
  },
  {
   "cell_type": "code",
   "execution_count": null,
   "id": "7c3b1dd6",
   "metadata": {},
   "outputs": [],
   "source": []
  },
  {
   "cell_type": "code",
   "execution_count": null,
   "id": "053ff756",
   "metadata": {},
   "outputs": [],
   "source": []
  },
  {
   "cell_type": "code",
   "execution_count": null,
   "id": "20c547d7",
   "metadata": {},
   "outputs": [],
   "source": []
  }
 ],
 "metadata": {
  "kernelspec": {
   "display_name": "Python 3 (ipykernel)",
   "language": "python",
   "name": "python3"
  },
  "language_info": {
   "codemirror_mode": {
    "name": "ipython",
    "version": 3
   },
   "file_extension": ".py",
   "mimetype": "text/x-python",
   "name": "python",
   "nbconvert_exporter": "python",
   "pygments_lexer": "ipython3",
   "version": "3.9.12"
  }
 },
 "nbformat": 4,
 "nbformat_minor": 5
}
