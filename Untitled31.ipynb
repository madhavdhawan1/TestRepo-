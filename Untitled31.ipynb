{
 "cells": [
  {
   "cell_type": "code",
   "execution_count": 1,
   "id": "3ad84380",
   "metadata": {},
   "outputs": [
    {
     "name": "stdout",
     "output_type": "stream",
     "text": [
      "6\n"
     ]
    }
   ],
   "source": [
    "rows=int(input())\n",
    "def pyramid(rows):\n",
    "    for i in range(rows):\n",
    "        print(''*(rows-i-1)+'* '*(i+1))\n",
    "    for j in range(rows-1,0,-1):\n",
    "        print(''*(rows-j)+'* '*(j))\n",
    "    print()\n",
    "    pattern(n)"
   ]
  },
  {
   "cell_type": "code",
   "execution_count": 11,
   "id": "b752d5f4",
   "metadata": {},
   "outputs": [
    {
     "name": "stdout",
     "output_type": "stream",
     "text": [
      "2\n",
      "3\n",
      "4\n",
      "3 1\n",
      "4 1\n"
     ]
    }
   ],
   "source": [
    "n=int(input())\n",
    "x=[]\n",
    "for i in range(n):\n",
    "    a=int(input())\n",
    "    x.append(a)\n",
    "    x.sort()\n",
    "k=0\n",
    "for item in x:\n",
    "    if k==item:\n",
    "        continue\n",
    "    print(item,x.count(item))\n",
    "    k=item"
   ]
  },
  {
   "cell_type": "code",
   "execution_count": 14,
   "id": "02b98185",
   "metadata": {},
   "outputs": [
    {
     "name": "stdout",
     "output_type": "stream",
     "text": [
      "4\n",
      "1\n",
      "1\n",
      "23\n",
      "455\n",
      "1 2\n",
      "23 1\n",
      "455 1\n"
     ]
    }
   ],
   "source": [
    "n=int(input())\n",
    "x=[]\n",
    "for i in range(n):\n",
    "    a=int(input())\n",
    "    x.append(a)\n",
    "    x.sort()\n",
    "k=0\n",
    "for item in x:\n",
    "    if k==item:\n",
    "        continue\n",
    "    print(item,x.count(item))\n",
    "    k=item"
   ]
  },
  {
   "cell_type": "code",
   "execution_count": 16,
   "id": "bbaa3534",
   "metadata": {},
   "outputs": [
    {
     "name": "stdout",
     "output_type": "stream",
     "text": [
      "4\n",
      "1\n",
      "2\n",
      "3\n",
      "4\n",
      "1 1\n",
      "2 1\n",
      "3 1\n",
      "4 1\n"
     ]
    }
   ],
   "source": [
    "n=int(input())\n",
    "x=[]\n",
    "for i in range(n):\n",
    "    a=int(input())\n",
    "    x.append(a)\n",
    "    x.sort()\n",
    "k=0\n",
    "for item in x:\n",
    "    if k==item:\n",
    "        continue\n",
    "    print(item,x.count(item))\n",
    "    k=item"
   ]
  },
  {
   "cell_type": "code",
   "execution_count": null,
   "id": "f6971b0c",
   "metadata": {},
   "outputs": [],
   "source": [
    "n=int(input())\n",
    "x=[]\n",
    "for i in range(n):\n",
    "    a=int(input())\n",
    "    x.append(a)\n",
    "    x.sort()\n",
    "k=0\n",
    "for item in x:\n",
    "    if k==item:\n",
    "        continue\n",
    "    print(item,x.count(item))\n",
    "    k=item"
   ]
  },
  {
   "cell_type": "code",
   "execution_count": 17,
   "id": "2b8fd0b9",
   "metadata": {},
   "outputs": [
    {
     "name": "stdout",
     "output_type": "stream",
     "text": [
      "0\n"
     ]
    }
   ],
   "source": [
    "i=0\n",
    "while i<5:\n",
    "    print(i)\n",
    "    i+=5\n",
    "    if i==3:\n",
    "        continue\n",
    "        break"
   ]
  },
  {
   "cell_type": "code",
   "execution_count": 19,
   "id": "61575afb",
   "metadata": {},
   "outputs": [
    {
     "name": "stdout",
     "output_type": "stream",
     "text": [
      "6 5\n"
     ]
    }
   ],
   "source": [
    "print(\"6 5\")"
   ]
  },
  {
   "cell_type": "code",
   "execution_count": null,
   "id": "bd5d91cb",
   "metadata": {},
   "outputs": [],
   "source": []
  },
  {
   "cell_type": "code",
   "execution_count": null,
   "id": "9420b0d8",
   "metadata": {},
   "outputs": [],
   "source": []
  },
  {
   "cell_type": "code",
   "execution_count": null,
   "id": "303ad9e1",
   "metadata": {},
   "outputs": [],
   "source": []
  },
  {
   "cell_type": "code",
   "execution_count": null,
   "id": "5305c023",
   "metadata": {},
   "outputs": [],
   "source": []
  },
  {
   "cell_type": "code",
   "execution_count": null,
   "id": "9f2e6fd8",
   "metadata": {},
   "outputs": [],
   "source": []
  }
 ],
 "metadata": {
  "kernelspec": {
   "display_name": "Python 3 (ipykernel)",
   "language": "python",
   "name": "python3"
  },
  "language_info": {
   "codemirror_mode": {
    "name": "ipython",
    "version": 3
   },
   "file_extension": ".py",
   "mimetype": "text/x-python",
   "name": "python",
   "nbconvert_exporter": "python",
   "pygments_lexer": "ipython3",
   "version": "3.9.12"
  }
 },
 "nbformat": 4,
 "nbformat_minor": 5
}
