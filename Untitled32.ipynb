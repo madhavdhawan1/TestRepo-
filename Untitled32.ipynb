{
 "cells": [
  {
   "cell_type": "code",
   "execution_count": 17,
   "id": "07cad91b",
   "metadata": {},
   "outputs": [
    {
     "name": "stdout",
     "output_type": "stream",
     "text": [
      "1,2,3,4,5,6,7,8\n"
     ]
    }
   ],
   "source": [
    "list=[input()]\n",
    "while list==input:\n",
    "    print((list-1)+(list-2))\n",
    "    break"
   ]
  },
  {
   "cell_type": "markdown",
   "id": "c836c40c",
   "metadata": {},
   "source": [
    "# comulative sum"
   ]
  },
  {
   "cell_type": "code",
   "execution_count": 22,
   "id": "89c6766d",
   "metadata": {},
   "outputs": [
    {
     "name": "stdout",
     "output_type": "stream",
     "text": [
      "[10, 30, 60, 100, 150]\n"
     ]
    }
   ],
   "source": [
    "def cumsum(s):\n",
    "    sm=0\n",
    "    cum_list=[]\n",
    "    for i in s:\n",
    "        sm=sm+i\n",
    "        cum_list.append(sm)\n",
    "    return cum_list\n",
    "a=[10,20,30,40,50]\n",
    "print(cumsum(a))"
   ]
  },
  {
   "cell_type": "code",
   "execution_count": 38,
   "id": "6724616a",
   "metadata": {},
   "outputs": [
    {
     "name": "stdout",
     "output_type": "stream",
     "text": [
      "40\n",
      "1 False\n",
      "3 False\n",
      "it does not exist.\n",
      "40 3\n"
     ]
    }
   ],
   "source": [
    "arr = [10,20,30,40,50,60,70,80,90,100]\n",
    "n = 10\n",
    "beg=0\n",
    "end=n-1\n",
    "item=int(input())\n",
    "mid=beg+end//2\n",
    "while beg<=end and arr[mid]!=item:\n",
    "    if item<arr[mid]:\n",
    "        end=mid-1\n",
    "    else:\n",
    "        beg=mid+1\n",
    "    mid=beg+end//2\n",
    "    print(mid,beg>end and arr[mid]!=item)\n",
    "else:\n",
    "    print(\"it does not exist.\")\n",
    "if arr[mid]==item:\n",
    "    print(item,mid)\n",
    "    \n"
   ]
  },
  {
   "cell_type": "code",
   "execution_count": null,
   "id": "068038b5",
   "metadata": {},
   "outputs": [],
   "source": []
  },
  {
   "cell_type": "code",
   "execution_count": null,
   "id": "8b74d02a",
   "metadata": {},
   "outputs": [],
   "source": []
  }
 ],
 "metadata": {
  "kernelspec": {
   "display_name": "Python 3 (ipykernel)",
   "language": "python",
   "name": "python3"
  },
  "language_info": {
   "codemirror_mode": {
    "name": "ipython",
    "version": 3
   },
   "file_extension": ".py",
   "mimetype": "text/x-python",
   "name": "python",
   "nbconvert_exporter": "python",
   "pygments_lexer": "ipython3",
   "version": "3.9.12"
  }
 },
 "nbformat": 4,
 "nbformat_minor": 5
}
